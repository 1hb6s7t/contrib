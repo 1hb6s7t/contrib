{
 "cells": [
  {
   "cell_type": "markdown",
   "metadata": {},
   "source": [
    "# Text-to-Image Retrieval之LGAM\n",
    "\n",
    "## LGAM: A Local and Global  Attention Matching For Text-to-Image Retrieval\n",
    "\n",
    "Text-to-Image Retrieval 意旨通过一个文本描述查询指定数据集中对应的图片，属于跨模态中Image-Text Matching的一项子任务。我们一般将其分为Fast和Slow两种（个人习惯叫法），其中Fast模型就是通过视觉网络提取图片特种，语言网络提取文字特征，然后通过内积或者余弦相似度的方式进行语义的对齐，即Matching。而Slow模型则是兴起于Transformer爆火以后，越来越多的模型将其架构引入相应领域，而多模态就是其中一种。作为多模态重要分支的Matching则也显然受益，本任务则是Matching的一种典型下游任务：Text-to-Image Retrieval，通过先对齐文本与图像的语义特征，然后对于查询语句Query找到数据集中与之最匹配的图片，其评价指标为相应图片在所有数据集中相似度的降序排名，常用Recall_1，Recall_5及Recall_10。而本方法LGAM便是属于Slow模型的一种，通过例如object的细粒度信息进行图文语义匹配。\n",
    "\n",
    "## 模型简介：\n",
    "\n",
    "![MO661@FZ%5D%608%5BI0EYFC0NUJO.png](sources/image/1.png)\n",
    "可以看到，我们的模型主要基于ResNet网络提取图片特征，然后通过Text transformer（这里用的Bert）进行细粒度信息匹配。\n",
    "以往的方法要么通过视觉网络和NLP网络提取特征后直接通过余弦相似度匹配，要么再结合图文Objects匹配，\n",
    "但是大多忽略了一个很重要的信息，Objects之间的关系。只有少数的用场景图匹配的方法会关注Objects之间的关系，\n",
    "例如LGSGM或SRFM。但通过场景图进行匹配也会有一个严重限制，即只考虑图片中是否有这种关系，\n",
    "但无法真正对齐Relations以及其对应Objects。\n",
    "\n",
    "![2RDLF%60%29OF$8GS6M3XZLY%7DC0.jpg](sources/image/2.jpg)\n",
    "方法主要创新：\n",
    "(1) 提供Subject-Relation-Object三元组的匹配方式；\n",
    "(2) 通过Attention网络直接对齐图片，文本描述，物体，关系，以及关系三元组。\n",
    "如下图：\n",
    "\n",
    "可以看到我们提取出了文本的物体，关系词，以及关系三元组以供网络输入。\n"
   ]
  },
  {
   "cell_type": "markdown",
   "metadata": {},
   "source": [
    "## 数据准备\n",
    "\n",
    "我们选取了TextCaps-OCR数据集中的1000张图片，5000个captions当训练集，100张图片，500个captions当测试集。\n",
    "\n",
    "数据描述：\n",
    "我们选取了一些适合做Text Image Retrieval的图文选取得到新的数据集。其中数据集中文本读取格式为字典形式：\n",
    "'id':{'captions':\\[5个句子\\]，'obj':\\[...\\], 'relations':\\[...\\], 'triplet':\\[...\\] }\n",
    "\n",
    "具体如下所示：\n",
    "\n",
    "```json\n",
    " \"caef3d1e97c2cf15\": {\n",
    "        \"captions\": [\n",
    "            \"A book about CEOs is sitting on top of a box.\",\n",
    "            \"a book called CEO (Customer Engagement Officer) by Mark Hillary.\",\n",
    "            \"A book titled CEO (Customer Engagement Officer) on top of a cardboard box.\",\n",
    "            \"A book by Mark Hillary titled CEO sits on top of a box\",\n",
    "            \"a book labeled CEO(cusotmer engagement officer) by mark hillary\"\n",
    "        ],\n",
    "        \"obj\": [[\"ceos\",\"book\",\"box\"],\n",
    "             [\"book\",\"customer\",\"officer\",\"mark\",\"hillary\",\"engagement\",\"ceo\"],\n",
    "             [\"book\",\"customer\",\"officer\",\"engagement\",\"box\",\"ceo\",\"cardboard\"],\n",
    "             [\"book\",\"hillary\",\"mark\",\"box\",\"ceo\"],\n",
    "             [\"book\",\"officer\",\"mark\",\"hillary\",\"engagement\",\"ceo\",\"cusotmer\"]],\n",
    "        \"relations\": [[\"sitting\",\"about\"],[\"called\"],[\"titled\"],[\"titled\",\"by\",\"sits\"],[\"labeled\"]],\n",
    "        \"triplet\": [\n",
    "            {\"sng\": [[\"book\",\"about\",\"CEOs\"]],\"stanford\": [[\"book\",\"is sitting on\",\"box\"]]},\n",
    "            {\"sng\": [],\"stanford\": []},\n",
    "            {\"sng\": [],\"stanford\": []},\n",
    "            {\"sng\": [[\"book\",\"by\",\"Mark Hillary\"],[\"book\",\"titled\",\"CEO\"]],\"stanford\": [[\"book\",\"sits on\",\"box\"]]},\n",
    "            {\"sng\": [],\"stanford\": [[ \"book\",\"labeled\",\"CEO\"],[\"book\",\"labeled\",\"cusotmer engagement officer\"],[\"book\",\"labeled CEO by\",\"mark hillary\"]]}\n",
    "        ]\n",
    "    },\n",
    "```\n",
    "\n",
    "![caef3d1e97c2cf15.jpg](sources/image/3.jpg)\n",
    "\n",
    "数据集中图片有彩色也有黑白图片，所以需要注意通道转化。\n",
    "我们这里的数据读取方法为将图片输入ResNet50后将输出维度设置为768\\*16维的向量，切分为16个768维度的向量作为Bert的词token输入，\n",
    "即类似ViT，然后文本将Captions中sentence与对应obj，relations以及triplet进行连接，编码embedding后与图片的16个token进行concat\n",
    "然后首部加上CLS_token一同输入到Bert中\n"
   ]
  },
  {
   "cell_type": "markdown",
   "metadata": {},
   "source": [
    "## 模块\n",
    "\n",
    "### 修改后的BertModel\n",
    "\n",
    "融合模型，包含ResNet50网络提取图片特征，并与word_embedding拼接输入到Bert的Encoder中，得到最后一层的信息进行池化。\n"
   ]
  },
  {
   "cell_type": "code",
   "execution_count": 19,
   "metadata": {},
   "outputs": [],
   "source": [
    "import mindspore.nn as nn"
   ]
  },
  {
   "cell_type": "code",
   "execution_count": 20,
   "metadata": {},
   "outputs": [],
   "source": [
    "class BertModel(nn.Cell):\n",
    "    def __init__(self,\n",
    "                 config,\n",
    "                 is_training,\n",
    "                 use_one_hot_embeddings=False,\n",
    "                 bs=8\n",
    "                 ):\n",
    "        super(BertModel, self).__init__()\n",
    "        config = copy.deepcopy(config)\n",
    "        self.bs = bs\n",
    "        if not is_training:\n",
    "            config.hidden_dropout_prob = 0.0\n",
    "            config.attention_probs_dropout_prob = 0.0\n",
    "\n",
    "        self.hidden_size = config.hidden_size\n",
    "        self.num_hidden_layers = config.num_hidden_layers\n",
    "        self.embedding_size = config.hidden_size\n",
    "        self.token_type_ids = None\n",
    "\n",
    "        self.last_idx = self.num_hidden_layers - 1\n",
    "        output_embedding_shape = [-1, config.seq_length, self.embedding_size]\n",
    "\n",
    "        self.bert_embedding_lookup = nn.Embedding(\n",
    "            vocab_size=config.vocab_size,\n",
    "            embedding_size=self.embedding_size,\n",
    "            use_one_hot=use_one_hot_embeddings,\n",
    "            embedding_table=TruncatedNormal(config.initializer_range))\n",
    "\n",
    "        self.bert_embedding_postprocessor = EmbeddingPostprocessor(\n",
    "            embedding_size=self.embedding_size,\n",
    "            embedding_shape=output_embedding_shape,\n",
    "            use_relative_positions=config.use_relative_positions,\n",
    "            use_token_type=True,\n",
    "            token_type_vocab_size=config.type_vocab_size,\n",
    "            use_one_hot_embeddings=use_one_hot_embeddings,\n",
    "            initializer_range=0.02,\n",
    "            max_position_embeddings=config.max_position_embeddings,\n",
    "            dropout_prob=config.hidden_dropout_prob)\n",
    "\n",
    "        self.bert_encoder = BertTransformer(\n",
    "            hidden_size=self.hidden_size,\n",
    "            num_attention_heads=config.num_attention_heads,\n",
    "            num_hidden_layers=self.num_hidden_layers,\n",
    "            intermediate_size=config.intermediate_size,\n",
    "            attention_probs_dropout_prob=config.attention_probs_dropout_prob,\n",
    "            use_one_hot_embeddings=use_one_hot_embeddings,\n",
    "            initializer_range=config.initializer_range,\n",
    "            hidden_dropout_prob=config.hidden_dropout_prob,\n",
    "            use_relative_positions=config.use_relative_positions,\n",
    "            hidden_act=config.hidden_act,\n",
    "            compute_type=config.compute_type,\n",
    "            return_all_encoders=True)\n",
    "\n",
    "        self.cast = P.Cast()\n",
    "        self.dtype = config.dtype\n",
    "        self.cast_compute_type = SaturateCast(dst_type=config.compute_type)\n",
    "        self.slice = P.StridedSlice()\n",
    "\n",
    "        self.squeeze_1 = P.Squeeze(axis=1)\n",
    "        self.dense = nn.Dense(self.hidden_size, self.hidden_size,\n",
    "                              activation=\"tanh\",\n",
    "                              weight_init=TruncatedNormal(config.initializer_range)).to_float(config.compute_type)\n",
    "        self._create_attention_mask_from_input_mask = CreateAttentionMaskFromInputMask(config)\n",
    "        self.vision = resnet50(self.embedding_size * 16)  # 使用ResNet50进行图像特征提取\n",
    "        self.concat = mindspore.ops.Concat(axis=1)  # 定义concat函数进行特征以及mask的拼接\n",
    "\n",
    "    def construct(self, input_ids, input_mask, frame, frame_mask):\n",
    "        \"\"\"Bidirectional Encoder Representations from Transformers.\"\"\"\n",
    "        # embedding\n",
    "        embedding_tables = self.bert_embedding_lookup.embedding_table\n",
    "        word_embeddings = self.bert_embedding_lookup(input_ids)\n",
    "        vision_embeddings = self.vision(frame)\n",
    "        vision_embeddings = vision_embeddings.view((self.bs, 16, -1))\n",
    "        embed = self.concat((vision_embeddings, word_embeddings))\n",
    "\n",
    "        frame_mask = frame_mask.repeat(16).view((self.bs, 16))\n",
    "        mask = self.concat((frame_mask, input_mask))\n",
    "        attention_mask = self._create_attention_mask_from_input_mask(mask)\n",
    "\n",
    "        # bert encoder\n",
    "        encoder_output = self.bert_encoder(self.cast_compute_type(embed),\n",
    "                                           attention_mask)\n",
    "\n",
    "        sequence_output = self.cast(encoder_output[self.last_idx], self.dtype)\n",
    "\n",
    "        # pooler\n",
    "        batch_size = P.Shape()(input_ids)[0]\n",
    "        sequence_slice = self.slice(sequence_output,\n",
    "                                    (0, 0, 0),\n",
    "                                    (batch_size, 1, self.hidden_size),\n",
    "                                    (1, 1, 1))\n",
    "        first_token = self.squeeze_1(sequence_slice)\n",
    "        pooled_output = self.dense(first_token)\n",
    "        pooled_output = self.cast(pooled_output, self.dtype)\n",
    "\n",
    "        return sequence_output, pooled_output, embedding_tables"
   ]
  },
  {
   "cell_type": "markdown",
   "metadata": {},
   "source": [
    "### 数据读取模块\n",
    "\n",
    "从本地文件中读取文本数据以及图像数据\n"
   ]
  },
  {
   "cell_type": "code",
   "execution_count": 21,
   "metadata": {},
   "outputs": [],
   "source": [
    "class MyDataset:\n",
    "    def __init__(self, data_path, txt_name, train=True):\n",
    "        self.tokenizer = FullTokenizer('vocab_2.txt')\n",
    "        with open(os.path.join(data_path, txt_name), 'r') as f:\n",
    "            self.data_dict = json.load(f)\n",
    "        self.new_loader = []\n",
    "        times = 0\n",
    "        for i in self.data_dict.keys():\n",
    "            img = Image.open(os.path.join(data_path, \"train\" if train else \"test\", i + '.jpg')).resize((512, 512),\n",
    "                                                                                                       Image.ANTIALIAS)\n",
    "            if np.shape(img)[-1] != 3:\n",
    "                img = img.convert('RGB')\n",
    "            img = np.array(img)\n",
    "            img = np.transpose(img, (2, 0, 1))\n",
    "            assert np.shape(img)[0] == 3, \"3 channels image required.\"\n",
    "            # patches_number = 16\n",
    "            # assert np.abs(np.sqrt(patches_number) - int(np.sqrt(patches_number))) <= 1e-8, 'patches_number have to be sqrtable.'\n",
    "            # patches_dim = int(np.sqrt(patches_number))\n",
    "            # patches = []\n",
    "            # wide = np.shape(img)[0] // patches_dim\n",
    "            # high = np.shape(img)[1] // patches_dim\n",
    "            # for h in range(patches_dim):\n",
    "            #     for l in range(patches_dim):\n",
    "            #         patches.append(img[h * wide:(h + 1) * wide, l * high:(l + 1) * high])\n",
    "            #         pass\n",
    "            #     pass\n",
    "            for j in range(5):  # 5 captions\n",
    "                triplet = ''\n",
    "                for p in self.data_dict[i]['triplet'][j]['sng']:\n",
    "                    triplet += \" \".join(p)\n",
    "                    triplet += \".\"\n",
    "                self.new_loader.append([img] + [\n",
    "                    self.data_dict[i]['captions'][j] + \" \".join(self.data_dict[i]['obj'][j]) + \".\" + \" \".join(\n",
    "                        self.data_dict[i]['relations'][j]) + \".\" + triplet] + [1])\n",
    "            ## 创建负样本\n",
    "            if train:\n",
    "                random_id = random.choice(list(self.data_dict.keys()))\n",
    "                if random_id != i:\n",
    "                    for m in range(5):\n",
    "                        triplet = ''\n",
    "                        for p in self.data_dict[random_id]['triplet'][m]['sng']:\n",
    "                            triplet += \" \".join(p)\n",
    "                            triplet += \".\"\n",
    "                        self.new_loader.append(\n",
    "                            [img] +\n",
    "                            [self.data_dict[random_id]['captions'][m] +\n",
    "                             \" \".join(self.data_dict[random_id]['obj'][m]) +\n",
    "                             \".\" + \" \".join(self.data_dict[random_id]['relations'][m]) +\n",
    "                             \".\" + triplet] + [0])\n",
    "            times += 1\n",
    "            if times == 1000:\n",
    "                break\n",
    "        ## EVAL\n",
    "        # counts = 0\n",
    "        # self.val_loader = []\n",
    "        # for i in self.new_loader:\n",
    "        #     for j in range(100):\n",
    "        #         if counts == j:\n",
    "        #             self.val_loader.append([self.new_loader[5 * j][0]] + [i[1]] + [1])\n",
    "        #             pass\n",
    "        #         else:\n",
    "        #             self.val_loader.append([self.new_loader[5 * j][0]] + [i[1]] + [0])\n",
    "        #             pass\n",
    "        #         pass\n",
    "        #     counts += 1\n",
    "        # self.new_loader = copy.deepcopy(self.val_loader)\n",
    "\n",
    "    def __len__(self):\n",
    "        return len(self.new_loader)\n",
    "\n",
    "    def __getitem__(self, item):\n",
    "        frame = self.new_loader[item][0]\n",
    "        frame_mask = np.ones((1,))\n",
    "        # if len(self.new_loader[item][1]) >= 112:\n",
    "        #     text = self.new_loader[item][1][:112]\n",
    "        #     pass\n",
    "        # else:\n",
    "        #     text = self.new_loader[item][1] + \" \" * (112 - len(self.new_loader[item][1]))\n",
    "        #     pass\n",
    "        # assert len(text) == 112, \"Text Length ERROR.\"\n",
    "        token = self.tokenizer.tokenize(self.new_loader[item][1])\n",
    "        text_mask = np.zeros((112,))\n",
    "        text_mask[:np.shape(token)[0]] = 1\n",
    "        text = token[:112]\n",
    "        Data = namedtuple('data', ['input_ids', 'input_mask', 'frame', 'frame_mask', 'label_ids'])\n",
    "        data = Data(\n",
    "            input_ids=text,\n",
    "            input_mask=text_mask,\n",
    "            frame=frame,\n",
    "            frame_mask=frame_mask,\n",
    "            label_ids=self.new_loader[item][2]\n",
    "        )\n",
    "        return data\n"
   ]
  },
  {
   "cell_type": "markdown",
   "metadata": {},
   "source": [
    "### Bert微调模块\n",
    "\n",
    "针对微调任务设计的模块"
   ]
  },
  {
   "cell_type": "code",
   "execution_count": 22,
   "metadata": {},
   "outputs": [],
   "source": [
    "class BertFinetuneCell(nn.Cell):\n",
    "    \"\"\"\n",
    "    Especially defined for finetuning where only four inputs tensor are needed.\n",
    "\n",
    "    Append an optimizer to the training network after that the construct\n",
    "    function can be called to create the backward graph.\n",
    "\n",
    "    Different from the builtin loss_scale wrapper cell, we apply grad_clip before the optimization.\n",
    "\n",
    "    Args:\n",
    "        network (Cell): The training network. Note that loss function should have been added.\n",
    "        optimizer (Optimizer): Optimizer for updating the weights.\n",
    "        scale_update_cell (Cell): Cell to do the loss scale. Default: None.\n",
    "    \"\"\"\n",
    "\n",
    "    def __init__(self, network, optimizer, scale_update_cell=None):\n",
    "\n",
    "        super(BertFinetuneCell, self).__init__(auto_prefix=False)\n",
    "        self.network = network\n",
    "        self.network.set_grad()\n",
    "        self.weights = optimizer.parameters\n",
    "        self.optimizer = optimizer\n",
    "        self.grad = C.GradOperation(get_by_list=True,\n",
    "                                    sens_param=True)\n",
    "        self.reducer_flag = False\n",
    "        self.allreduce = P.AllReduce()\n",
    "        self.parallel_mode = context.get_auto_parallel_context(\"parallel_mode\")\n",
    "        if self.parallel_mode in [ParallelMode.DATA_PARALLEL, ParallelMode.HYBRID_PARALLEL]:\n",
    "            self.reducer_flag = True\n",
    "        self.grad_reducer = None\n",
    "        if self.reducer_flag:\n",
    "            mean = context.get_auto_parallel_context(\"gradients_mean\")\n",
    "            degree = get_group_size()\n",
    "            self.grad_reducer = DistributedGradReducer(optimizer.parameters, mean, degree)\n",
    "        self.is_distributed = (self.parallel_mode != ParallelMode.STAND_ALONE)\n",
    "        self.cast = P.Cast()\n",
    "        self.gpu_target = False\n",
    "        if context.get_context(\"device_target\") == \"GPU\":\n",
    "            self.gpu_target = True\n",
    "            self.float_status = P.FloatStatus()\n",
    "            self.addn = P.AddN()\n",
    "            self.reshape = P.Reshape()\n",
    "        else:\n",
    "            self.alloc_status = P.NPUAllocFloatStatus()\n",
    "            self.get_status = P.NPUGetFloatStatus()\n",
    "            self.clear_status = P.NPUClearFloatStatus()\n",
    "        self.reduce_sum = P.ReduceSum(keep_dims=False)\n",
    "        self.base = Tensor(1, mstype.float32)\n",
    "        self.less_equal = P.LessEqual()\n",
    "        self.hyper_map = C.HyperMap()\n",
    "        self.loss_scale = None\n",
    "        self.loss_scaling_manager = scale_update_cell\n",
    "        if scale_update_cell:\n",
    "            self.loss_scale = Parameter(Tensor(scale_update_cell.get_loss_scale(), dtype=mstype.float32))\n",
    "\n",
    "    def construct(self, input_ids, input_mask, frame, frame_mask, label_ids, sens=None):\n",
    "        \"\"\"Bert Finetune\"\"\"\n",
    "\n",
    "        weights = self.weights\n",
    "        init = False\n",
    "        loss = self.network(input_ids, input_mask, frame, frame_mask, label_ids)\n",
    "        if sens is None:\n",
    "            scaling_sens = self.loss_scale\n",
    "        else:\n",
    "            scaling_sens = sens\n",
    "\n",
    "        if not self.gpu_target:\n",
    "            init = self.alloc_status()\n",
    "            init = F.depend(init, loss)\n",
    "            clear_status = self.clear_status(init)\n",
    "            scaling_sens = F.depend(scaling_sens, clear_status)\n",
    "        grads = self.grad(self.network, weights)(input_ids, input_mask, frame, frame_mask, label_ids,\n",
    "                                                 self.cast(scaling_sens,\n",
    "                                                           mstype.float32))\n",
    "        grads = self.hyper_map(F.partial(grad_scale, scaling_sens), grads)\n",
    "        grads = self.hyper_map(F.partial(clip_grad, GRADIENT_CLIP_TYPE, GRADIENT_CLIP_VALUE), grads)\n",
    "        if self.reducer_flag:\n",
    "            grads = self.grad_reducer(grads)\n",
    "        if not self.gpu_target:\n",
    "            init = F.depend(init, grads)\n",
    "            get_status = self.get_status(init)\n",
    "            init = F.depend(init, get_status)\n",
    "            flag_sum = self.reduce_sum(init, (0,))\n",
    "        else:\n",
    "            flag_sum = self.hyper_map(F.partial(_grad_overflow), grads)\n",
    "            flag_sum = self.addn(flag_sum)\n",
    "            flag_sum = self.reshape(flag_sum, (()))\n",
    "        if self.is_distributed:\n",
    "            flag_reduce = self.allreduce(flag_sum)\n",
    "            cond = self.less_equal(self.base, flag_reduce)\n",
    "        else:\n",
    "            cond = self.less_equal(self.base, flag_sum)\n",
    "        overflow = cond\n",
    "        if sens is None:\n",
    "            overflow = self.loss_scaling_manager(self.loss_scale, cond)\n",
    "        if not overflow:\n",
    "            self.optimizer(grads)\n",
    "        return (loss, cond)\n"
   ]
  },
  {
   "cell_type": "markdown",
   "metadata": {},
   "source": [
    "## 训练\n",
    "\n",
    "训练前需要对代码进行如下改动\n",
    "\n",
    "### src/dataset.py\n",
    "\n",
    "- 176行：将train改为True\n",
    "- 230~242行：注释掉\n",
    "- 269行：`dataset_gen = MyDataset(data_file_path, \"captions/train_v2\")`\n",
    "\n",
    "### bash/run_classifier_gpu.sh\n",
    "\n",
    "- 42行：true\n",
    "- 43行：false\n",
    "\n",
    "### src/bert_for_finetune.py\n",
    "\n",
    "- 177行：注释掉\n",
    "- 178~187行：取消注释\n",
    "\n",
    "----\n",
    "\n",
    "在修改完代码之后，使用bash运行脚本文件，脚本文件中包含了运行时程序所需要的超参数。"
   ]
  },
  {
   "cell_type": "code",
   "execution_count": 14,
   "metadata": {},
   "outputs": [],
   "source": [
    "import os"
   ]
  },
  {
   "cell_type": "code",
   "execution_count": 16,
   "metadata": {},
   "outputs": [],
   "source": [
    "r = os.popen('bash scripts/run_classifier_gpu.sh').readlines()"
   ]
  },
  {
   "cell_type": "code",
   "execution_count": 17,
   "metadata": {},
   "outputs": [
    {
     "data": {
      "text/plain": [
       "['==============================================================================================================\\n',\n",
       " 'Please run the script as: \\n',\n",
       " 'bash scripts/run_classifier_gpu.sh DEVICE_ID\\n',\n",
       " 'DEVICE_ID is optional, default value is zero\\n',\n",
       " 'for example: bash scripts/run_classifier_gpu.sh DEVICE_ID 1\\n',\n",
       " 'assessment_method include: [MCC, Spearman_correlation ,Accuracy]\\n',\n",
       " '==============================================================================================================\\n',\n",
       " 'start\\n',\n",
       " '(8, 3, 512, 512)\\n',\n",
       " 'steps_per_epoch 1250\\n',\n",
       " '======================================================================================================================================================\\n',\n",
       " 'epoch: 0, current epoch percent: 1.000, step: 1250, outputs are (Tensor(shape=[1], dtype=Float32, value= [ 7.25785971e-01]), Tensor(shape=[], dtype=Bool, value= False))\\n',\n",
       " 'epoch time: 911068.047 ms, per step time: 728.854 ms\\n',\n",
       " 'epoch: 1, current epoch percent: 1.000, step: 2500, outputs are (Tensor(shape=[1], dtype=Float32, value= [ 6.14006371e-01]), Tensor(shape=[], dtype=Bool, value= False))\\n',\n",
       " 'epoch time: 806881.182 ms, per step time: 645.505 ms\\n',\n",
       " 'epoch: 2, current epoch percent: 1.000, step: 3750, outputs are (Tensor(shape=[1], dtype=Float32, value= [ 5.05374448e-01]), Tensor(shape=[], dtype=Bool, value= False))\\n',\n",
       " 'epoch time: 812479.239 ms, per step time: 649.983 ms\\n',\n",
       " 'epoch: 3, current epoch percent: 1.000, step: 5000, outputs are (Tensor(shape=[1], dtype=Float32, value= [ 4.17635343e-01]), Tensor(shape=[], dtype=Bool, value= False))\\n',\n",
       " 'epoch time: 813012.808 ms, per step time: 650.410 ms\\n',\n",
       " 'epoch: 4, current epoch percent: 1.000, step: 6250, outputs are (Tensor(shape=[1], dtype=Float32, value= [ 3.39486325e-01]), Tensor(shape=[], dtype=Bool, value= False))\\n',\n",
       " 'epoch time: 810647.069 ms, per step time: 648.518 ms\\n']"
      ]
     },
     "execution_count": 17,
     "metadata": {},
     "output_type": "execute_result"
    }
   ],
   "source": [
    "r"
   ]
  },
  {
   "cell_type": "markdown",
   "metadata": {},
   "source": [
    "## 测试\n",
    "\n",
    "测试之前需要手动修改如下代码：\n",
    "\n",
    "### src/dataset.py\n",
    "\n",
    "- 176行：将train改为False\n",
    "- 230~242行：取消注释\n",
    "- 269行：`dataset_gen = MyDataset(data_file_path, \"captions/val_v2\")`\n",
    "\n",
    "### bash/run_classifier_gpu.sh\n",
    "\n",
    "- 42行：false\n",
    "- 43行：true\n",
    "\n",
    "### src/bert_for_finetune.py\n",
    "\n",
    "- 177行：取消注释\n",
    "- 178~187行：注释掉\n"
   ]
  },
  {
   "cell_type": "markdown",
   "metadata": {},
   "source": [
    "## 评价Ranking\n"
   ]
  },
  {
   "cell_type": "code",
   "execution_count": 4,
   "metadata": {},
   "outputs": [],
   "source": [
    "import json\n",
    "import numpy as np\n",
    "import matplotlib.pyplot as plt"
   ]
  },
  {
   "cell_type": "code",
   "execution_count": 5,
   "metadata": {},
   "outputs": [],
   "source": [
    "with open('score_norelations.json', 'r', encoding='utf8') as f:\n",
    "    score1 = json.load(f)\n",
    "score1 = np.array(score1)"
   ]
  },
  {
   "cell_type": "code",
   "execution_count": 6,
   "metadata": {},
   "outputs": [
    {
     "data": {
      "text/plain": [
       "(100, 5, 100)"
      ]
     },
     "execution_count": 6,
     "metadata": {},
     "output_type": "execute_result"
    }
   ],
   "source": [
    "score1.shape"
   ]
  },
  {
   "cell_type": "code",
   "execution_count": 7,
   "metadata": {},
   "outputs": [],
   "source": [
    "with open('score_withrelations.json', 'r', encoding='utf8') as f:\n",
    "    score2 = json.load(f)\n",
    "score2 = np.array(score1)"
   ]
  },
  {
   "cell_type": "code",
   "execution_count": 8,
   "metadata": {},
   "outputs": [
    {
     "data": {
      "text/plain": [
       "(100, 5, 100)"
      ]
     },
     "execution_count": 8,
     "metadata": {},
     "output_type": "execute_result"
    }
   ],
   "source": [
    "score2.shape"
   ]
  },
  {
   "cell_type": "code",
   "execution_count": 9,
   "metadata": {},
   "outputs": [],
   "source": [
    "acc = 0\n",
    "temp = 0\n",
    "recall_score1 = []\n",
    "for m in range(10):\n",
    "    with open('score_norelations.json', 'r', encoding='utf8') as f:\n",
    "        score1 = json.load(f)\n",
    "    score1 = np.array(score1)\n",
    "    for i in range(len(score1)):\n",
    "        for j in score1[i]:\n",
    "            temp = j[i]\n",
    "            j.sort()\n",
    "            if temp >= j[-m - 1] and temp != 0:\n",
    "                acc += 1\n",
    "    recall_1 = acc / (len(score1) * 5)\n",
    "    acc = 0\n",
    "    recall_score1.append(recall_1)"
   ]
  },
  {
   "cell_type": "code",
   "execution_count": 10,
   "metadata": {},
   "outputs": [
    {
     "data": {
      "text/plain": [
       "[0.208, 0.308, 0.406, 0.464, 0.502, 0.54, 0.58, 0.596, 0.632, 0.652]"
      ]
     },
     "execution_count": 10,
     "metadata": {},
     "output_type": "execute_result"
    }
   ],
   "source": [
    "recall_score1"
   ]
  },
  {
   "cell_type": "code",
   "execution_count": 11,
   "metadata": {},
   "outputs": [],
   "source": [
    "acc = 0\n",
    "temp = 0\n",
    "recall_score2 = []\n",
    "for m in range(10):\n",
    "    with open('score_withrelations.json', 'r', encoding='utf8') as f:\n",
    "        score2 = json.load(f)\n",
    "    score2 = np.array(score2)\n",
    "    for i in range(len(score2)):\n",
    "        for j in score2[i]:\n",
    "            temp = j[i]\n",
    "            j.sort()\n",
    "            if temp >= j[-1 - m] and temp != 0:\n",
    "                acc += 1\n",
    "    recall_2 = acc / (len(score2) * 5)\n",
    "    acc = 0\n",
    "    recall_score2.append(recall_2)"
   ]
  },
  {
   "cell_type": "code",
   "execution_count": 12,
   "metadata": {},
   "outputs": [
    {
     "data": {
      "text/plain": [
       "[0.402, 0.542, 0.634, 0.682, 0.746, 0.782, 0.804, 0.816, 0.838, 0.846]"
      ]
     },
     "execution_count": 12,
     "metadata": {},
     "output_type": "execute_result"
    }
   ],
   "source": [
    "recall_score2"
   ]
  },
  {
   "cell_type": "code",
   "execution_count": 13,
   "metadata": {},
   "outputs": [
    {
     "data": {
      "image/png": "[encoded data removed]",
      "text/plain": [
       "<Figure size 720x720 with 1 Axes>"
      ]
     },
     "metadata": {
      "needs_background": "light"
     },
     "output_type": "display_data"
    }
   ],
   "source": [
    "plt.figure(figsize=(10, 10))\n",
    "x = np.arange(1, 11)\n",
    "\n",
    "plt.plot(x, recall_score1, '-o', label='Prendiction_without_relations')\n",
    "plt.plot(x, recall_score2, '-o', label='Prendiction_with_relations')\n",
    "\n",
    "plt.xlabel(\"recall-x\")\n",
    "plt.ylabel(\"score\")\n",
    "plt.xticks(np.arange(1, 11))\n",
    "plt.yticks(np.arange(0, 1, 0.05))\n",
    "# plt.text(x,recall_score,\"%.0f\" % recall_score)\n",
    "plt.grid()\n",
    "plt.legend()\n",
    "plt.show()"
   ]
  },
  {
   "cell_type": "markdown",
   "metadata": {},
   "source": [
    "## 主要遇到的Bug\n",
    "\n",
    "### 严重错误\n",
    "\n",
    "\\[CRITICAL\\] CORE(28259,7fdd0f261740,python):2022-07-04-07:56:32.042.632 \\[mindspore/core/abstract/abstract_value.cc:72\\] ShapeJoinLogging\\] Shape Join Failed: shape1 = (), shape2 = (8, 1).\n",
    "\n",
    "这个问题出现在双流模型中，不知道为什么会出现这样的错误，所以也不知道如何去修改\n",
    "\n",
    "### 在nn.Cell的construct方法中不能使用numpy方法\n",
    "\n",
    "由于在调试MindSpore的时候出现了未知的错误，因此没有办法进行调试，所以想要在程序运行的过程中使用print方法以及numpy方法查看一些张量的形状，结果出现这样的错误，解决办法就是不使用numpy方法，在construct外查看。\n",
    "\n",
    "### Tensor不能被切片\n",
    "\n",
    "这个错误是一个队友在对图片进行操作的时候出现的，代码类似：\n",
    "\n",
    "```python\n",
    "from PIL import Image\n",
    "import numpy as np\n",
    "import mindspore\n",
    "\n",
    "im = mindspore.Tensor(np.array(Image.open(path)))\n",
    "im[0:1]\n",
    "```\n",
    "\n",
    "显示`im`无法切片。另外一个队友尝试使用同样方法操作却可以，问了老师也不清楚原因。这一点也是耽误了比较长时间。\n",
    "\n",
    "### 其他的小错误\n",
    "\n",
    "这些错误主要是维度不匹配的小错误，原因大多因为对张量的操作不正确，找到出错的地方进行适当修正即可。"
   ]
  }
 ],
 "metadata": {
  "kernelspec": {
   "display_name": "Python 3 (ipykernel)",
   "language": "python",
   "name": "python3"
  },
  "language_info": {
   "codemirror_mode": {
    "name": "ipython",
    "version": 3
   },
   "file_extension": ".py",
   "mimetype": "text/x-python",
   "name": "python",
   "nbconvert_exporter": "python",
   "pygments_lexer": "ipython3",
   "version": "3.7.5"
  }
 },
 "nbformat": 4,
 "nbformat_minor": 2
}
